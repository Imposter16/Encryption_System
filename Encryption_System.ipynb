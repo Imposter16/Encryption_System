{
 "cells": [
  {
   "cell_type": "code",
   "execution_count": 1,
   "id": "b4b98b49",
   "metadata": {},
   "outputs": [],
   "source": [
    "def encrypt_sentence(sentence, shift):\n",
    "    encrypted_sentence = \"\"\n",
    "\n",
    "    for char in sentence:\n",
    "        if char.isalpha():\n",
    "            # Determine if the character is uppercase or lowercase\n",
    "            offset = 65 if char.isupper() else 97\n",
    "\n",
    "            # Shift the character and wrap around the alphabet\n",
    "            encrypted_char = chr((ord(char) - offset + shift) % 26 + offset)\n",
    "            encrypted_sentence += encrypted_char\n",
    "        else:\n",
    "            # If the character is not a letter, add it unchanged\n",
    "            encrypted_sentence += char\n",
    "\n",
    "    return encrypted_sentence"
   ]
  },
  {
   "cell_type": "code",
   "execution_count": 2,
   "id": "5b8ba7bb",
   "metadata": {},
   "outputs": [
    {
     "name": "stdout",
     "output_type": "stream",
     "text": [
      "The encrypted sentence is: 'khoor zruog'\n"
     ]
    }
   ],
   "source": [
    "sentence = \"hello world\"\n",
    "shift = 3\n",
    "encrypted = encrypt_sentence(sentence, shift)\n",
    "print(f\"The encrypted sentence is: '{encrypted}'\")"
   ]
  },
  {
   "cell_type": "code",
   "execution_count": 3,
   "id": "1345cc97",
   "metadata": {},
   "outputs": [],
   "source": [
    "# Hence, the above output is the desired output "
   ]
  }
 ],
 "metadata": {
  "kernelspec": {
   "display_name": "Python 3 (ipykernel)",
   "language": "python",
   "name": "python3"
  },
  "language_info": {
   "codemirror_mode": {
    "name": "ipython",
    "version": 3
   },
   "file_extension": ".py",
   "mimetype": "text/x-python",
   "name": "python",
   "nbconvert_exporter": "python",
   "pygments_lexer": "ipython3",
   "version": "3.11.3"
  }
 },
 "nbformat": 4,
 "nbformat_minor": 5
}
